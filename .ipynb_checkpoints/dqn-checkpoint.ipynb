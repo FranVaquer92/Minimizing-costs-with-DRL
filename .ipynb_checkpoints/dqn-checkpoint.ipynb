{
 "cells": [
  {
   "cell_type": "markdown",
   "metadata": {},
   "source": [
    "# CASO PRÁCTICO 2 - MINIMIZACIÓN DE COSTES"
   ]
  },
  {
   "cell_type": "markdown",
   "metadata": {},
   "source": [
    "## DEEP Q-LEARNING"
   ]
  },
  {
   "cell_type": "code",
   "execution_count": null,
   "metadata": {},
   "outputs": [],
   "source": [
    "#Import libraries\n",
    "import numpy as np\n",
    "\n",
    "#Implement an algorithm of deep q-learning\n",
    "\n",
    "class DQN(object):\n",
    "    #INTRODUCTION AND INITIALIZATION OF DQN PARAMETERS AND VARIABLES\n",
    "    def __init__(self, max_memory = 100, discount_factor = 0.9):\n",
    "        self.memory = list()\n",
    "        self.max_memory = max_memory\n",
    "        self.discount_factor = discount_factor\n",
    "        \n",
    "    #CREATING A METHOD THAT BUILD THE MEMORY OF REPEAT EXPERIENCE\n",
    "    def remember(self, transition, game_over):\n",
    "        self.memory.append([transition, game_over])\n",
    "        if len(self.memory) > self.max_memory:\n",
    "            del self.memory[0]\n",
    "    #CREATING A METHOD THAT BUILD TWO BLOCKS OF ENTRIES AND TARGETS\n",
    "    def get_batch(self, model, batch_size = 10):\n",
    "        len_memory = len(self.memory)\n",
    "        num_inputs = self.memory[0][0][0].shape[1]\n",
    "        num_outputs = model.output_shape[-1]\n",
    "        inputs = np.zeros(shape = (min(batch_size, len_memory), num_inputs))\n",
    "        targets = np.zeros(shape = (min(batch_size, len_memory), num_outputs))\n",
    "        for i, idx in enumerate(np.random.randint(low = 0, high = len_memory, size = min(batch_size, len_memory))):\n",
    "            current_state, action, reward, next_state = self.memory[idx][0]\n",
    "            game_over = self.memory[idx][1]\n",
    "            inputs[i] = current_state\n",
    "            targets[i] = model.predict(current_state)[0]\n",
    "            Q_sa = np.max(model.predict(next_state)[0])\n",
    "            if game_over:\n",
    "                targets[i, action] = reward\n",
    "            else:\n",
    "                targets[i, action] = reward + self.discount_factor * Q_sa\n",
    "        return inputs, targets\n",
    "    "
   ]
  }
 ],
 "metadata": {
  "kernelspec": {
   "display_name": "Python 3",
   "language": "python",
   "name": "python3"
  },
  "language_info": {
   "codemirror_mode": {
    "name": "ipython",
    "version": 3
   },
   "file_extension": ".py",
   "mimetype": "text/x-python",
   "name": "python",
   "nbconvert_exporter": "python",
   "pygments_lexer": "ipython3",
   "version": "3.8.5"
  }
 },
 "nbformat": 4,
 "nbformat_minor": 4
}
