{
 "cells": [
  {
   "cell_type": "markdown",
   "metadata": {},
   "source": [
    "# CASO PRÁCTICO 2 - MINIMIZACIÓN DE COSTES"
   ]
  },
  {
   "cell_type": "markdown",
   "metadata": {},
   "source": [
    "## BRAIN"
   ]
  },
  {
   "cell_type": "code",
   "execution_count": null,
   "metadata": {},
   "outputs": [],
   "source": [
    "#Import libraries\n",
    "#import sys\n",
    "#!{sys.executable} -m pip install --upgrade keras\n",
    "\n",
    "from keras.models import Model\n",
    "from keras.layers import Input, Dense\n",
    "from keras.optimizers import Adam\n",
    "import numpy as np\n",
    "\n",
    "#BUILDING THE BRAIN\n",
    "\n",
    "class Brain(object):\n",
    "    def __init__(self, learning_rate = 0.001, number_actions = 5):\n",
    "        self.learning_rate = learning_rate\n",
    "        states = Input(shape = (3,))\n",
    "        x = Dense(64, activation= 'sigmoid')(states)\n",
    "        y = Dense(32, activation= 'sigmoid')(x)\n",
    "        q_values = Dense(number_actions, activation= 'softmax')(y)\n",
    "        self.model = Model(inputs = states, output = q_values)\n",
    "        self.model.compile(loss = 'mse',\n",
    "                           optimizer = Adam(learning_rate)\n",
    "                          )\n",
    "    "
   ]
  }
 ],
 "metadata": {
  "kernelspec": {
   "display_name": "Python 3",
   "language": "python",
   "name": "python3"
  },
  "language_info": {
   "codemirror_mode": {
    "name": "ipython",
    "version": 3
   },
   "file_extension": ".py",
   "mimetype": "text/x-python",
   "name": "python",
   "nbconvert_exporter": "python",
   "pygments_lexer": "ipython3",
   "version": "3.8.5"
  }
 },
 "nbformat": 4,
 "nbformat_minor": 4
}
