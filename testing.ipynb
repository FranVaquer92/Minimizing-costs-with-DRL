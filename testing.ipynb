{
 "cells": [
  {
   "cell_type": "markdown",
   "metadata": {},
   "source": [
    "# CASO PRÁCTICO 2 - MINIMIZACIÓN DE COSTES"
   ]
  },
  {
   "cell_type": "markdown",
   "metadata": {},
   "source": [
    "## TESTING "
   ]
  },
  {
   "cell_type": "code",
   "execution_count": 2,
   "metadata": {},
   "outputs": [
    {
     "name": "stdout",
     "output_type": "stream",
     "text": [
      "\n",
      "\n"
     ]
    },
    {
     "ename": "NameError",
     "evalue": "name 'epoch' is not defined",
     "output_type": "error",
     "traceback": [
      "\u001b[0;31m---------------------------------------------------------------------------\u001b[0m",
      "\u001b[0;31mNameError\u001b[0m                                 Traceback (most recent call last)",
      "\u001b[0;32m<ipython-input-2-87b89600e144>\u001b[0m in \u001b[0;36m<module>\u001b[0;34m()\u001b[0m\n\u001b[1;32m     43\u001b[0m \u001b[0;31m#PRINT TRINING RESULTS AT THE FINISH OF EPOCHS\u001b[0m\u001b[0;34m\u001b[0m\u001b[0;34m\u001b[0m\u001b[0;34m\u001b[0m\u001b[0m\n\u001b[1;32m     44\u001b[0m \u001b[0mprint\u001b[0m\u001b[0;34m(\u001b[0m\u001b[0;34m'\\n'\u001b[0m\u001b[0;34m)\u001b[0m\u001b[0;34m\u001b[0m\u001b[0;34m\u001b[0m\u001b[0m\n\u001b[0;32m---> 45\u001b[0;31m \u001b[0mprint\u001b[0m\u001b[0;34m(\u001b[0m\u001b[0;34m'Epoch: {:03d}/{:03d}'\u001b[0m\u001b[0;34m.\u001b[0m\u001b[0mformat\u001b[0m\u001b[0;34m(\u001b[0m\u001b[0mepoch\u001b[0m\u001b[0;34m,\u001b[0m \u001b[0mnumber_epochs\u001b[0m\u001b[0;34m)\u001b[0m\u001b[0;34m)\u001b[0m\u001b[0;34m\u001b[0m\u001b[0;34m\u001b[0m\u001b[0m\n\u001b[0m\u001b[1;32m     46\u001b[0m \u001b[0mprint\u001b[0m\u001b[0;34m(\u001b[0m\u001b[0;34m' - TOTAL ENERGY WASTED BY THE SYSTEM WITHOUT AI: {:.0f} J'\u001b[0m\u001b[0;34m.\u001b[0m\u001b[0mformat\u001b[0m\u001b[0;34m(\u001b[0m\u001b[0menv\u001b[0m\u001b[0;34m.\u001b[0m\u001b[0mtotal_energy_noai\u001b[0m\u001b[0;34m)\u001b[0m\u001b[0;34m)\u001b[0m\u001b[0;34m\u001b[0m\u001b[0;34m\u001b[0m\u001b[0m\n\u001b[1;32m     47\u001b[0m \u001b[0mprint\u001b[0m\u001b[0;34m(\u001b[0m\u001b[0;34m' - TOTAL ENERGY WASTED BY THE SYSTEM WITH AI: {:.0f} J'\u001b[0m\u001b[0;34m.\u001b[0m\u001b[0mformat\u001b[0m\u001b[0;34m(\u001b[0m\u001b[0menv\u001b[0m\u001b[0;34m.\u001b[0m\u001b[0mtotal_energy_ai\u001b[0m\u001b[0;34m)\u001b[0m\u001b[0;34m)\u001b[0m\u001b[0;34m\u001b[0m\u001b[0;34m\u001b[0m\u001b[0m\n",
      "\u001b[0;31mNameError\u001b[0m: name 'epoch' is not defined"
     ]
    }
   ],
   "source": [
    "#Import libraries and another python files\n",
    "import os\n",
    "import numpy as np\n",
    "import random as rn\n",
    "from keras.models import load_model\n",
    "import environment\n",
    "\n",
    "os.environ['KMP_DUPLICATE_LIB_OK']='True'\n",
    "\n",
    "#Set up reproducibility seeds\n",
    "os.environ['PYTHONHASHSEED'] = '0'\n",
    "np.random.seed(42)\n",
    "rn.seed(12345)\n",
    "\n",
    "#SET UP OF THE PARAMETERS\n",
    "number_actions = 5\n",
    "direction_boundary = (number_actions - 1)/2\n",
    "temperature_step = 1.5\n",
    "\n",
    "#BUILD OF THE ENVIRONMENT BY THE CREATION OF ENVIRONMENT OBJECT\n",
    "env = environment.Environment(optimal_temperature = (18.0, 24.0), initial_month = 0, initial_number_users = 10, initial_rate_data = 60)\n",
    "\n",
    "#LOAD A PRE TRAINED MODEL\n",
    "model = load_model('model_dql.h5')\n",
    "\n",
    "#ELECTION OF TRAIN MODE\n",
    "train = False\n",
    "\n",
    "#RUN A YEAR OF SIMULATION IN INFERENCE MODE\n",
    "env.train = train\n",
    "current_state, _, _ = env.observe()\n",
    "for timestep in range(0, 12*30*24*60):\n",
    "    q_values = model.predict(current_state)\n",
    "    action = np.argmax(q_values[0])\n",
    "    if (action < direction_boundary):\n",
    "        direction = -1\n",
    "    else:\n",
    "        direction = 1\n",
    "    energy_ai = abs(action - direction_boundary) * temperature_step\n",
    "    next_state, reward, game_over = env.update_env(direction, energy_ai, month= int(timestep/(30*24*60)))\n",
    "    current_state = next_state\n",
    "\n",
    "#PRINT TRINING RESULTS AT THE FINISH OF EPOCHS\n",
    "print('\\n')\n",
    "print(' - TOTAL ENERGY WASTED BY THE SYSTEM WITHOUT AI: {:.0f} J'.format(env.total_energy_noai))\n",
    "print(' - TOTAL ENERGY WASTED BY THE SYSTEM WITH AI: {:.0f} J'.format(env.total_energy_ai))\n",
    "print(' - ENERGY SAVED: {:.0f} %'.format((env.total_energy_noai-env.total_energy_ai)/env.total_energy_noai))"
   ]
  }
 ],
 "metadata": {
  "kernelspec": {
   "display_name": "Python 3",
   "language": "python",
   "name": "python3"
  },
  "language_info": {
   "codemirror_mode": {
    "name": "ipython",
    "version": 3
   },
   "file_extension": ".py",
   "mimetype": "text/x-python",
   "name": "python",
   "nbconvert_exporter": "python",
   "pygments_lexer": "ipython3",
   "version": "3.7.2"
  }
 },
 "nbformat": 4,
 "nbformat_minor": 4
}
